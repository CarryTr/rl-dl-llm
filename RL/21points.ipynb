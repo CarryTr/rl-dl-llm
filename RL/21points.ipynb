{
 "cells": [
  {
   "cell_type": "code",
   "execution_count": 103,
   "metadata": {},
   "outputs": [],
   "source": [
    "import numpy as np"
   ]
  },
  {
   "cell_type": "markdown",
   "metadata": {},
   "source": [
    "### 牌堆"
   ]
  },
  {
   "cell_type": "code",
   "execution_count": 104,
   "metadata": {},
   "outputs": [],
   "source": [
    "#仅负责抽牌功能\n",
    "class Cards:\n",
    "    def __init__(self):\n",
    "        self.cardset = ['2','3','4','5','6','7','8','9','10','J','Q','K','A']\n",
    "        self.cardset = self.cardset * 4\n",
    "        np.random.shuffle(self.cardset)\n",
    "    def draw(self):\n",
    "        return self.cardset.pop()\n",
    "    def showallcards(self):\n",
    "        return self.cardset"
   ]
  },
  {
   "cell_type": "markdown",
   "metadata": {},
   "source": [
    "### 庄家"
   ]
  },
  {
   "cell_type": "code",
   "execution_count": 105,
   "metadata": {},
   "outputs": [],
   "source": [
    "#庄家如果手牌点数低于17就会抽牌，高于17点停牌\n",
    "class Dealer:\n",
    "    def __init__(self):\n",
    "        pass\n",
    "    def hit(self,deck):#获知场上局势\n",
    "        if deck.dealer_score < 17:\n",
    "            deck.dealercards.append(deck.cards.draw())#小于17抽牌\n",
    "            deck.dealer_score = deck.cal_score(deck.dealercards)#计算庄家手牌点数\n",
    "        else:\n",
    "            deck.dealer_stop = True\n",
    "    "
   ]
  },
  {
   "cell_type": "markdown",
   "metadata": {},
   "source": [
    "### 玩家"
   ]
  },
  {
   "cell_type": "code",
   "execution_count": 106,
   "metadata": {},
   "outputs": [],
   "source": [
    "#玩家可以自己选择是否抽牌，如果手牌点数超过21点就会爆牌\n",
    "#请自行完成代码填写，可以仿照dealer在牌库中抽牌\n",
    "class Player:\n",
    "    def __init__(self):\n",
    "        pass\n",
    "    def hit(self,deck):#为单轮内进行的行为,以下采用庄家的策略进行演示测试\n",
    "        if deck.player_score < 17:\n",
    "            deck.playercards.append(deck.cards.draw())#小于17抽牌\n",
    "            deck.player_score = deck.cal_score(deck.playercards)#计算玩家手牌点数\n",
    "        else:\n",
    "            deck.player_stop = True\n",
    "\n"
   ]
  },
  {
   "cell_type": "markdown",
   "metadata": {},
   "source": [
    "### 桌子"
   ]
  },
  {
   "cell_type": "code",
   "execution_count": 107,
   "metadata": {},
   "outputs": [],
   "source": [
    "#负责发牌和计算分数，以及决定游戏进程\n",
    "class Deck:\n",
    "    def __init__(self,player,dealer):\n",
    "        self.rule ={'2':2,'3':3,'4':4,'5':5,'6':6,'7':7,'8':8,'9':9,'10':10,'J':10,'Q':10,'K':10,'A':11}\n",
    "        self.cards = Cards()#表示本局游戏的牌堆\n",
    "        self.player = player#表示玩家\n",
    "        self.dealer = dealer\n",
    "        self.playercards = []#表示玩家手中的牌\n",
    "        self.dealercards = []#表示庄家手中的牌\n",
    "        self.player_score = 0#表示玩家手中的牌点数\n",
    "        self.dealer_score = 0#表示庄家手中的牌点数\n",
    "        self.player_bust = False#表示玩家是否爆牌\n",
    "        self.dealer_bust = False#表示庄家是否爆牌\n",
    "        self.player_stop = False#表示玩家是否停牌\n",
    "        self.dealer_stop = False#表示庄家是否停牌\n",
    "        self.player_win = False#表示玩家是否获胜\n",
    "        self.dealer_win = False#表示庄家是否获胜\n",
    "        self.gameover = False#表示游戏是否结束\n",
    "    def cal_score(self,cards):\n",
    "        #计算手牌点数\n",
    "        score = 0\n",
    "        for card in cards:\n",
    "            score += self.rule[card]\n",
    "        return score\n",
    "\n",
    "    def deal(self):\n",
    "        #进行阶段\n",
    "        print(\"游戏开始\")\n",
    "        turn = 0\n",
    "        while self.player_stop == False or self.dealer_stop == False:\n",
    "            print(\"第\",turn,\"轮:\")    \n",
    "            self.player.hit(self)\n",
    "            print(\"玩家手牌：\",self.playercards,\"点数：\",self.player_score)\n",
    "            if  self.player_score > 21:\n",
    "                self.player_bust == True\n",
    "                self.gameover = True\n",
    "                break\n",
    "            \n",
    "            self.dealer.hit(self)\n",
    "            print(\"庄家手牌：\",self.dealercards,\"点数：\",self.dealer_score)\n",
    "            if self.dealer_score > 21:\n",
    "                self.dealer_bust == True\n",
    "                self.gameover = True\n",
    "                break\n",
    "            \n",
    "        #结算阶段\n",
    "        print(\"游戏结束,结果如下：\")\n",
    "        if self.player_bust == True or (self.dealer_bust == False and self.player_score < self.dealer_score):\n",
    "            self.dealer_win = True\n",
    "            print(\"庄家获胜\")\n",
    "        else:\n",
    "            self.player_win = True\n",
    "            print(\"玩家获胜\")\n",
    "        "
   ]
  },
  {
   "cell_type": "markdown",
   "metadata": {},
   "source": [
    "### 初始化"
   ]
  },
  {
   "cell_type": "code",
   "execution_count": 108,
   "metadata": {},
   "outputs": [],
   "source": [
    "player = Player()\n",
    "dealer = Dealer()"
   ]
  },
  {
   "cell_type": "markdown",
   "metadata": {},
   "source": [
    "### 测试代码"
   ]
  },
  {
   "cell_type": "code",
   "execution_count": 109,
   "metadata": {},
   "outputs": [
    {
     "name": "stdout",
     "output_type": "stream",
     "text": [
      "游戏开始\n",
      "第 0 轮:\n",
      "玩家手牌： ['6'] 点数： 6\n",
      "庄家手牌： ['9'] 点数： 9\n",
      "第 0 轮:\n",
      "玩家手牌： ['6', '7'] 点数： 13\n",
      "庄家手牌： ['9', '4'] 点数： 13\n",
      "第 0 轮:\n",
      "玩家手牌： ['6', '7', '10'] 点数： 23\n",
      "游戏结束,结果如下：\n",
      "玩家获胜\n"
     ]
    }
   ],
   "source": [
    "def test():\n",
    "    deck = Deck(player,dealer)\n",
    "    deck.deal()\n",
    "test()"
   ]
  }
 ],
 "metadata": {
  "kernelspec": {
   "display_name": "pytorch",
   "language": "python",
   "name": "python3"
  },
  "language_info": {
   "codemirror_mode": {
    "name": "ipython",
    "version": 3
   },
   "file_extension": ".py",
   "mimetype": "text/x-python",
   "name": "python",
   "nbconvert_exporter": "python",
   "pygments_lexer": "ipython3",
   "version": "3.8.19"
  }
 },
 "nbformat": 4,
 "nbformat_minor": 2
}
