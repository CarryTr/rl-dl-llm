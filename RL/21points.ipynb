{
 "cells": [
  {
   "cell_type": "code",
   "execution_count": null,
   "metadata": {},
   "outputs": [],
   "source": [
    "import numpy as np"
   ]
  },
  {
   "cell_type": "markdown",
   "metadata": {},
   "source": [
    "### 牌堆"
   ]
  },
  {
   "cell_type": "code",
   "execution_count": null,
   "metadata": {},
   "outputs": [],
   "source": [
    "#仅负责抽牌功能\n",
    "class Cards:\n",
    "    def __init__(self):\n",
    "        self.cardset = ['2','3','4','5','6','7','8','9','10','J','Q','K','A']\n",
    "        self.cardset = self.cardset * 4\n",
    "        np.random.shuffle(self.cardset)\n",
    "    def draw(self):\n",
    "        np.random.shuffle(self.cardset)\n",
    "        return self.cardset[0]\n",
    "    def showallcards(self):\n",
    "        return self.cardset"
   ]
  },
  {
   "cell_type": "markdown",
   "metadata": {},
   "source": [
    "### 庄家"
   ]
  },
  {
   "cell_type": "code",
   "execution_count": null,
   "metadata": {},
   "outputs": [],
   "source": [
    "#庄家如果手牌点数低于17就会抽牌，高于17点停牌\n",
    "class Dealer:\n",
    "    def __init__(self):\n",
    "        pass\n",
    "    def hit(self,deck):#获知场上局势\n",
    "        if deck.dealer_score < 17:\n",
    "            deck.dealercards.append(deck.cards.draw())#小于17抽牌\n",
    "            deck.dealer_score = deck.cal_score(deck.dealercards)#计算庄家手牌点数\n",
    "        else:\n",
    "            deck.dealer_stop = True\n",
    "    "
   ]
  },
  {
   "cell_type": "markdown",
   "metadata": {},
   "source": [
    "### 玩家"
   ]
  },
  {
   "cell_type": "code",
   "execution_count": null,
   "metadata": {},
   "outputs": [],
   "source": [
    "#玩家可以自己选择是否抽牌，如果手牌点数超过21点就会爆牌\n",
    "#请自行完成代码填写，可以仿照dealer在牌库中抽牌\n",
    "class Player:\n",
    "    def __init__(self):\n",
    "        self.saG = np.zeros((22, 22, 2))  # Q表\n",
    "        self.gamma = 0.9  # 折扣因子\n",
    "        self.alpha = 0.0005  # 学习率\n",
    "        self.path = []  # 轨迹记录\n",
    "\n",
    "    def hit_eval(self, deck):\n",
    "        \"\"\" 测试时使用 softmax 策略选择动作 \"\"\"\n",
    "        action_probs = np.exp(self.saG[deck.player_score][deck.dealer_score])\n",
    "        action_probs /= np.sum(action_probs)  # 归一化 softmax\n",
    "        action = np.random.choice([0, 1], p=action_probs)\n",
    "\n",
    "        if action == 0:  # 继续抽牌\n",
    "            deck.playercards.append(deck.cards.draw())\n",
    "            deck.player_score = deck.cal_score(deck.playercards)\n",
    "        else:  # 停牌\n",
    "            deck.player_stop = True\n",
    "\n",
    "    def hit_train(self, deck):\n",
    "        \"\"\" 训练时使用均匀随机策略 \"\"\"\n",
    "        action = np.random.choice([0, 1])\n",
    "        self.path.append((deck.player_score, deck.dealer_score, action))  # 记录轨迹\n",
    "\n",
    "        if action == 0:  # 继续抽牌\n",
    "            deck.playercards.append(deck.cards.draw())\n",
    "            deck.player_score = deck.cal_score(deck.playercards)\n",
    "        else:  # 停牌\n",
    "            deck.player_stop = True\n",
    "\n",
    "    def training(self, reward):\n",
    "        \"\"\" 蒙特卡洛策略重要性采样更新 Q 值 \"\"\"\n",
    "        G = reward\n",
    "        pratio = 1  # 重要性采样比率\n",
    "        \n",
    "        for i, j, a in reversed(self.path):  # 反向遍历路径\n",
    "            G = self.gamma * G\n",
    "            behavior_prob = 0.5  # 训练时使用均匀随机策略\n",
    "            policy_prob = np.exp(self.saG[i][j][a]) / np.sum(np.exp(self.saG[i][j]))  # 当前策略概率\n",
    "            pratio *= policy_prob / behavior_prob  # 重要性采样比率\n",
    "            self.saG[i][j][a] += self.alpha * (G*pratio - self.saG[i][j][a])\n",
    "\n",
    "        self.path.clear()  # 训练后清空轨迹"
   ]
  },
  {
   "cell_type": "markdown",
   "metadata": {},
   "source": [
    "### 桌子"
   ]
  },
  {
   "cell_type": "code",
   "execution_count": null,
   "metadata": {},
   "outputs": [],
   "source": [
    "#负责发牌和计算分数，以及决定游戏进程\n",
    "class Deck:\n",
    "    def __init__(self,player,dealer):\n",
    "        self.rule ={'2':2,'3':3,'4':4,'5':5,'6':6,'7':7,'8':8,'9':9,'10':10,'J':10,'Q':10,'K':10,'A':1}\n",
    "        self.cards = Cards()#表示本局游戏的牌堆\n",
    "        self.player = player#表示玩家\n",
    "        self.dealer = dealer\n",
    "        self.playercards = []#表示玩家手中的牌\n",
    "        self.dealercards = []#表示庄家手中的牌\n",
    "        self.player_score = 0#表示玩家手中的牌点数\n",
    "        self.dealer_score = 0#表示庄家手中的牌点数\n",
    "        self.player_bust = False#表示玩家是否爆牌\n",
    "        self.dealer_bust = False#表示庄家是否爆牌\n",
    "        self.player_stop = False#表示玩家是否停牌\n",
    "        self.dealer_stop = False#表示庄家是否停牌\n",
    "        self.player_win = False#表示玩家是否获胜\n",
    "        self.dealer_win = False#表示庄家是否获胜\n",
    "    def cal_score(self,cards):\n",
    "        #计算手牌点数\n",
    "        score = 0\n",
    "        for card in cards:\n",
    "            score += self.rule[card]\n",
    "        return score\n",
    "\n",
    "    def deal(self):#测试模式\n",
    "        #进行阶段\n",
    "        print(\"游戏开始\")\n",
    "        turn = 0\n",
    "        while self.player_stop == False or self.dealer_stop == False:\n",
    "            print(\"第\",turn,\"轮:\")\n",
    "            if  self.player_stop == False:    \n",
    "                self.player.hit_eval(self)\n",
    "                print(\"玩家手牌：\",self.playercards,\"点数：\",self.player_score)\n",
    "            if  self.player_score > 21:\n",
    "                self.player_bust = True\n",
    "                print(\"玩家爆牌\")\n",
    "                break\n",
    "            if self.dealer_stop == False:\n",
    "                self.dealer.hit(self)\n",
    "                print(\"庄家手牌：\",self.dealercards,\"点数：\",self.dealer_score)\n",
    "            if self.dealer_score > 21:\n",
    "                self.dealer_bust = True\n",
    "                print(\"庄家爆牌\")\n",
    "                break\n",
    "            \n",
    "        #结算阶段\n",
    "        print(\"游戏结束,结果如下：\")\n",
    "        if self.player_bust == True or (self.dealer_bust == False and self.player_score < self.dealer_score):\n",
    "            self.dealer_win = True\n",
    "            print(\"庄家获胜\")\n",
    "        else:\n",
    "            self.player_win = True\n",
    "            print(\"玩家获胜\")\n",
    "        \n",
    "    def train(self):#训练模式\n",
    "        #进行阶段\n",
    "        while self.player_stop == False or self.dealer_stop == False: \n",
    "            if self.player_stop==False:\n",
    "                self.player.hit_train(self)\n",
    "            if  self.player_score > 21:\n",
    "                self.player_bust = True\n",
    "                break\n",
    "            if self.dealer_stop == False:\n",
    "                self.dealer.hit(self)\n",
    "            if self.dealer_score > 21:\n",
    "                self.dealer_bust = True\n",
    "                break\n",
    "        #结算阶段\n",
    "        if self.player_bust == True or (self.dealer_bust == False and self.player_score < self.dealer_score):\n",
    "            self.dealer_win = True\n",
    "        else:\n",
    "            self.player_win = True\n",
    "        #训练阶段\n",
    "        reward = 5 if self.player_win == True else -5\n",
    "        self.player.training(reward)\n",
    "        "
   ]
  },
  {
   "cell_type": "markdown",
   "metadata": {},
   "source": [
    "### 初始化"
   ]
  },
  {
   "cell_type": "code",
   "execution_count": null,
   "metadata": {},
   "outputs": [],
   "source": [
    "player = Player()\n",
    "dealer = Dealer()"
   ]
  },
  {
   "cell_type": "markdown",
   "metadata": {},
   "source": [
    "### 训练"
   ]
  },
  {
   "cell_type": "code",
   "execution_count": null,
   "metadata": {},
   "outputs": [],
   "source": [
    "train_rounds = 50000\n",
    "for i in range(train_rounds):\n",
    "    deck = Deck(player,dealer)\n",
    "    deck.train()\n",
    "    if i % 1000 == 0:\n",
    "        playerwintime = 0\n",
    "        for j in range(100):\n",
    "            deck = Deck(player,dealer)\n",
    "            deck.deal()\n",
    "            if deck.player_win == True:\n",
    "                playerwintime += 1\n",
    "        print(\"第\",i,\"轮训练，玩家胜率：\",playerwintime/100)\n",
    "        \n",
    "\n",
    "        "
   ]
  },
  {
   "cell_type": "markdown",
   "metadata": {},
   "source": [
    "### 测试代码"
   ]
  },
  {
   "cell_type": "code",
   "execution_count": null,
   "metadata": {},
   "outputs": [],
   "source": [
    "print(player.saG)\n",
    "def test():\n",
    "    deck = Deck(player,dealer)\n",
    "    deck.deal()\n",
    "test()"
   ]
  }
 ],
 "metadata": {
  "kernelspec": {
   "display_name": "pytorch",
   "language": "python",
   "name": "python3"
  },
  "language_info": {
   "codemirror_mode": {
    "name": "ipython",
    "version": 3
   },
   "file_extension": ".py",
   "mimetype": "text/x-python",
   "name": "python",
   "nbconvert_exporter": "python",
   "pygments_lexer": "ipython3",
   "version": "3.8.19"
  }
 },
 "nbformat": 4,
 "nbformat_minor": 2
}
